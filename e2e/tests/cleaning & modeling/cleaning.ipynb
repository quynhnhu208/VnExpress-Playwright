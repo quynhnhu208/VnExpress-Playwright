{
 "cells": [
  {
   "cell_type": "code",
   "execution_count": 1,
   "id": "a6356007",
   "metadata": {},
   "outputs": [],
   "source": [
    "import pandas as pd\n",
    "import json"
   ]
  },
  {
   "cell_type": "code",
   "execution_count": 38,
   "id": "0af786ec",
   "metadata": {},
   "outputs": [
    {
     "data": {
      "text/html": [
       "<div>\n",
       "<style scoped>\n",
       "    .dataframe tbody tr th:only-of-type {\n",
       "        vertical-align: middle;\n",
       "    }\n",
       "\n",
       "    .dataframe tbody tr th {\n",
       "        vertical-align: top;\n",
       "    }\n",
       "\n",
       "    .dataframe thead th {\n",
       "        text-align: right;\n",
       "    }\n",
       "</style>\n",
       "<table border=\"1\" class=\"dataframe\">\n",
       "  <thead>\n",
       "    <tr style=\"text-align: right;\">\n",
       "      <th></th>\n",
       "      <th>url</th>\n",
       "      <th>title</th>\n",
       "      <th>content</th>\n",
       "      <th>category</th>\n",
       "    </tr>\n",
       "  </thead>\n",
       "  <tbody>\n",
       "    <tr>\n",
       "      <th>0</th>\n",
       "      <td>https://vnexpress.net/cau-nhon-trach-lon-nhat-...</td>\n",
       "      <td>Cầu Nhơn Trạch lớn nhất Vành đai 3 TP HCM trướ...</td>\n",
       "      <td>Ngày 20/5, nhìn từ trên cao, cầu Nhơn Trạch đã...</td>\n",
       "      <td>Thời sự</td>\n",
       "    </tr>\n",
       "    <tr>\n",
       "      <th>1</th>\n",
       "      <td>https://vnexpress.net/rut-ngan-ba-thang-nhiem-...</td>\n",
       "      <td>Rút ngắn ba tháng nhiệm kỳ Quốc hội khóa 15</td>\n",
       "      <td>Nghị quyết vừa được các đại biểu bấm nút thông...</td>\n",
       "      <td>Thời sự</td>\n",
       "    </tr>\n",
       "    <tr>\n",
       "      <th>2</th>\n",
       "      <td>https://vnexpress.net/rut-ngan-ba-thang-nhiem-...</td>\n",
       "      <td>Rút ngắn ba tháng nhiệm kỳ Quốc hội khóa 15</td>\n",
       "      <td>Nghị quyết vừa được các đại biểu bấm nút thông...</td>\n",
       "      <td>Thời sự</td>\n",
       "    </tr>\n",
       "    <tr>\n",
       "      <th>3</th>\n",
       "      <td>https://vnexpress.net/trung-tam-hoi-cho-trien-...</td>\n",
       "      <td>Trung tâm Hội chợ triển lãm quốc gia sắp hoàn ...</td>\n",
       "      <td>Trung tâm Hội chợ triển lãm quốc gia được xây ...</td>\n",
       "      <td>Thời sự</td>\n",
       "    </tr>\n",
       "    <tr>\n",
       "      <th>4</th>\n",
       "      <td>https://vnexpress.net/trung-tam-hoi-cho-trien-...</td>\n",
       "      <td>Trung tâm Hội chợ triển lãm quốc gia sắp hoàn ...</td>\n",
       "      <td>Trung tâm Hội chợ triển lãm quốc gia được xây ...</td>\n",
       "      <td>Thời sự</td>\n",
       "    </tr>\n",
       "    <tr>\n",
       "      <th>...</th>\n",
       "      <td>...</td>\n",
       "      <td>...</td>\n",
       "      <td>...</td>\n",
       "      <td>...</td>\n",
       "    </tr>\n",
       "    <tr>\n",
       "      <th>512</th>\n",
       "      <td>https://vnexpress.net/nha-dau-tu-thua-lo-vi-om...</td>\n",
       "      <td>Nhà đầu tư thua lỗ vì 'ôm đất' theo sáp nhập tỉnh</td>\n",
       "      <td>Chị Đức Hạnh (quận 11, TP HCM) đang đứng trước...</td>\n",
       "      <td>Bất động sản</td>\n",
       "    </tr>\n",
       "    <tr>\n",
       "      <th>513</th>\n",
       "      <td>https://vnexpress.net/binh-thuan-se-khai-thac-...</td>\n",
       "      <td>Bình Thuận sẽ khai thác gần 2.000 ha đất dọc đ...</td>\n",
       "      <td>Ngày 13/5, Sở Nông nghiệp và Môi trường Bình T...</td>\n",
       "      <td>Bất động sản</td>\n",
       "    </tr>\n",
       "    <tr>\n",
       "      <th>514</th>\n",
       "      <td>https://vnexpress.net/ha-tang-giao-thong-thuc-...</td>\n",
       "      <td>Hạ tầng giao thông thúc đẩy bất động sản Đông ...</td>\n",
       "      <td>Theo phương án sáp nhập, TP HCM sau khi hợp nh...</td>\n",
       "      <td>Bất động sản</td>\n",
       "    </tr>\n",
       "    <tr>\n",
       "      <th>515</th>\n",
       "      <td>https://vnexpress.net/chu-sieu-du-an-khu-tu-gi...</td>\n",
       "      <td>Chủ siêu dự án khu tứ giác Bến Thành tăng vốn ...</td>\n",
       "      <td>Theo bản đăng ký thông tin doanh nghiệp mới nh...</td>\n",
       "      <td>Bất động sản</td>\n",
       "    </tr>\n",
       "    <tr>\n",
       "      <th>516</th>\n",
       "      <td>https://vnexpress.net/tp-hcm-kien-nghi-phuong-...</td>\n",
       "      <td>TP HCM kiến nghị phương án gỡ vướng cho 20% qu...</td>\n",
       "      <td>UBND TP HCM vừa kiến nghị Ban Thường vụ Đảng ủ...</td>\n",
       "      <td>Bất động sản</td>\n",
       "    </tr>\n",
       "  </tbody>\n",
       "</table>\n",
       "<p>517 rows × 4 columns</p>\n",
       "</div>"
      ],
      "text/plain": [
       "                                                   url  \\\n",
       "0    https://vnexpress.net/cau-nhon-trach-lon-nhat-...   \n",
       "1    https://vnexpress.net/rut-ngan-ba-thang-nhiem-...   \n",
       "2    https://vnexpress.net/rut-ngan-ba-thang-nhiem-...   \n",
       "3    https://vnexpress.net/trung-tam-hoi-cho-trien-...   \n",
       "4    https://vnexpress.net/trung-tam-hoi-cho-trien-...   \n",
       "..                                                 ...   \n",
       "512  https://vnexpress.net/nha-dau-tu-thua-lo-vi-om...   \n",
       "513  https://vnexpress.net/binh-thuan-se-khai-thac-...   \n",
       "514  https://vnexpress.net/ha-tang-giao-thong-thuc-...   \n",
       "515  https://vnexpress.net/chu-sieu-du-an-khu-tu-gi...   \n",
       "516  https://vnexpress.net/tp-hcm-kien-nghi-phuong-...   \n",
       "\n",
       "                                                 title  \\\n",
       "0    Cầu Nhơn Trạch lớn nhất Vành đai 3 TP HCM trướ...   \n",
       "1          Rút ngắn ba tháng nhiệm kỳ Quốc hội khóa 15   \n",
       "2          Rút ngắn ba tháng nhiệm kỳ Quốc hội khóa 15   \n",
       "3    Trung tâm Hội chợ triển lãm quốc gia sắp hoàn ...   \n",
       "4    Trung tâm Hội chợ triển lãm quốc gia sắp hoàn ...   \n",
       "..                                                 ...   \n",
       "512  Nhà đầu tư thua lỗ vì 'ôm đất' theo sáp nhập tỉnh   \n",
       "513  Bình Thuận sẽ khai thác gần 2.000 ha đất dọc đ...   \n",
       "514  Hạ tầng giao thông thúc đẩy bất động sản Đông ...   \n",
       "515  Chủ siêu dự án khu tứ giác Bến Thành tăng vốn ...   \n",
       "516  TP HCM kiến nghị phương án gỡ vướng cho 20% qu...   \n",
       "\n",
       "                                               content      category  \n",
       "0    Ngày 20/5, nhìn từ trên cao, cầu Nhơn Trạch đã...       Thời sự  \n",
       "1    Nghị quyết vừa được các đại biểu bấm nút thông...       Thời sự  \n",
       "2    Nghị quyết vừa được các đại biểu bấm nút thông...       Thời sự  \n",
       "3    Trung tâm Hội chợ triển lãm quốc gia được xây ...       Thời sự  \n",
       "4    Trung tâm Hội chợ triển lãm quốc gia được xây ...       Thời sự  \n",
       "..                                                 ...           ...  \n",
       "512  Chị Đức Hạnh (quận 11, TP HCM) đang đứng trước...  Bất động sản  \n",
       "513  Ngày 13/5, Sở Nông nghiệp và Môi trường Bình T...  Bất động sản  \n",
       "514  Theo phương án sáp nhập, TP HCM sau khi hợp nh...  Bất động sản  \n",
       "515  Theo bản đăng ký thông tin doanh nghiệp mới nh...  Bất động sản  \n",
       "516  UBND TP HCM vừa kiến nghị Ban Thường vụ Đảng ủ...  Bất động sản  \n",
       "\n",
       "[517 rows x 4 columns]"
      ]
     },
     "execution_count": 38,
     "metadata": {},
     "output_type": "execute_result"
    }
   ],
   "source": [
    "# Đọc file JSON\n",
    "with open('vnexpress_data.json', 'r', encoding='utf-8') as f:\n",
    "    data = json.load(f)\n",
    "\n",
    "df = pd.DataFrame(data)\n",
    "df"
   ]
  },
  {
   "cell_type": "code",
   "execution_count": 39,
   "id": "ed7b73ec",
   "metadata": {},
   "outputs": [
    {
     "data": {
      "text/html": [
       "<div>\n",
       "<style scoped>\n",
       "    .dataframe tbody tr th:only-of-type {\n",
       "        vertical-align: middle;\n",
       "    }\n",
       "\n",
       "    .dataframe tbody tr th {\n",
       "        vertical-align: top;\n",
       "    }\n",
       "\n",
       "    .dataframe thead th {\n",
       "        text-align: right;\n",
       "    }\n",
       "</style>\n",
       "<table border=\"1\" class=\"dataframe\">\n",
       "  <thead>\n",
       "    <tr style=\"text-align: right;\">\n",
       "      <th></th>\n",
       "      <th>url</th>\n",
       "      <th>title</th>\n",
       "      <th>content</th>\n",
       "      <th>category</th>\n",
       "    </tr>\n",
       "  </thead>\n",
       "  <tbody>\n",
       "    <tr>\n",
       "      <th>count</th>\n",
       "      <td>517</td>\n",
       "      <td>517</td>\n",
       "      <td>517</td>\n",
       "      <td>517</td>\n",
       "    </tr>\n",
       "    <tr>\n",
       "      <th>unique</th>\n",
       "      <td>514</td>\n",
       "      <td>487</td>\n",
       "      <td>491</td>\n",
       "      <td>6</td>\n",
       "    </tr>\n",
       "    <tr>\n",
       "      <th>top</th>\n",
       "      <td>https://vnexpress.net/hon-1-1-trieu-ty-dong-ti...</td>\n",
       "      <td>Không có tiêu đề</td>\n",
       "      <td></td>\n",
       "      <td>Thời sự</td>\n",
       "    </tr>\n",
       "    <tr>\n",
       "      <th>freq</th>\n",
       "      <td>2</td>\n",
       "      <td>3</td>\n",
       "      <td>3</td>\n",
       "      <td>145</td>\n",
       "    </tr>\n",
       "  </tbody>\n",
       "</table>\n",
       "</div>"
      ],
      "text/plain": [
       "                                                      url             title  \\\n",
       "count                                                 517               517   \n",
       "unique                                                514               487   \n",
       "top     https://vnexpress.net/hon-1-1-trieu-ty-dong-ti...  Không có tiêu đề   \n",
       "freq                                                    2                 3   \n",
       "\n",
       "       content category  \n",
       "count      517      517  \n",
       "unique     491        6  \n",
       "top             Thời sự  \n",
       "freq         3      145  "
      ]
     },
     "execution_count": 39,
     "metadata": {},
     "output_type": "execute_result"
    }
   ],
   "source": [
    "df.describe()"
   ]
  },
  {
   "cell_type": "code",
   "execution_count": 40,
   "id": "ab4ef1cc",
   "metadata": {},
   "outputs": [
    {
     "data": {
      "text/plain": [
       "array(['Thời sự', 'Thế giới', 'Kinh doanh', 'Khoa học công nghệ',\n",
       "       'Góc nhìn', 'Bất động sản'], dtype=object)"
      ]
     },
     "execution_count": 40,
     "metadata": {},
     "output_type": "execute_result"
    }
   ],
   "source": [
    "labels = df['category'].unique()\n",
    "labels  # Xem các nhãn"
   ]
  },
  {
   "cell_type": "code",
   "execution_count": 41,
   "id": "673bf5f4",
   "metadata": {},
   "outputs": [],
   "source": [
    "# Loại bỏ bản ghi không có nội dung\n",
    "df = df[df['content'].str.strip().astype(bool)]"
   ]
  },
  {
   "cell_type": "code",
   "execution_count": 46,
   "id": "18a541fe",
   "metadata": {},
   "outputs": [],
   "source": [
    "# Xoá trùng lặp theo url\n",
    "df = df.drop_duplicates(subset='title')"
   ]
  },
  {
   "cell_type": "code",
   "execution_count": 47,
   "id": "a5f21992",
   "metadata": {},
   "outputs": [
    {
     "name": "stderr",
     "output_type": "stream",
     "text": [
      "C:\\Users\\DELL\\AppData\\Local\\Temp\\ipykernel_15028\\932557955.py:2: SettingWithCopyWarning: \n",
      "A value is trying to be set on a copy of a slice from a DataFrame.\n",
      "Try using .loc[row_indexer,col_indexer] = value instead\n",
      "\n",
      "See the caveats in the documentation: https://pandas.pydata.org/pandas-docs/stable/user_guide/indexing.html#returning-a-view-versus-a-copy\n",
      "  df['text'] = df['title'].fillna('') + \". \" + df['content'].fillna('')\n"
     ]
    }
   ],
   "source": [
    "# Tạo cột văn bản đầu vào (title + content)\n",
    "df['text'] = df['title'].fillna('') + \". \" + df['content'].fillna('')"
   ]
  },
  {
   "cell_type": "code",
   "execution_count": 1,
   "id": "85b74194",
   "metadata": {},
   "outputs": [
    {
     "ename": "ModuleNotFoundError",
     "evalue": "No module named 'underthesea'",
     "output_type": "error",
     "traceback": [
      "\u001b[1;31m---------------------------------------------------------------------------\u001b[0m",
      "\u001b[1;31mModuleNotFoundError\u001b[0m                       Traceback (most recent call last)",
      "Cell \u001b[1;32mIn[1], line 1\u001b[0m\n\u001b[1;32m----> 1\u001b[0m \u001b[38;5;28;01mfrom\u001b[39;00m \u001b[38;5;21;01munderthesea\u001b[39;00m \u001b[38;5;28;01mimport\u001b[39;00m word_tokenize\n\u001b[0;32m      3\u001b[0m df[\u001b[38;5;124m'\u001b[39m\u001b[38;5;124mtext_tokenized\u001b[39m\u001b[38;5;124m'\u001b[39m] \u001b[38;5;241m=\u001b[39m df[\u001b[38;5;124m'\u001b[39m\u001b[38;5;124mtext\u001b[39m\u001b[38;5;124m'\u001b[39m]\u001b[38;5;241m.\u001b[39mapply(\u001b[38;5;28;01mlambda\u001b[39;00m x: word_tokenize(x, \u001b[38;5;28mformat\u001b[39m\u001b[38;5;241m=\u001b[39m\u001b[38;5;124m\"\u001b[39m\u001b[38;5;124mtext\u001b[39m\u001b[38;5;124m\"\u001b[39m))\n",
      "\u001b[1;31mModuleNotFoundError\u001b[0m: No module named 'underthesea'"
     ]
    }
   ],
   "source": [
    "from underthesea import word_tokenize\n",
    "\n",
    "df['text_tokenized'] = df['text'].apply(lambda x: word_tokenize(x, format=\"text\"))"
   ]
  },
  {
   "cell_type": "code",
   "execution_count": null,
   "id": "94dfde58",
   "metadata": {},
   "outputs": [],
   "source": []
  }
 ],
 "metadata": {
  "kernelspec": {
   "display_name": "base",
   "language": "python",
   "name": "python3"
  },
  "language_info": {
   "codemirror_mode": {
    "name": "ipython",
    "version": 3
   },
   "file_extension": ".py",
   "mimetype": "text/x-python",
   "name": "python",
   "nbconvert_exporter": "python",
   "pygments_lexer": "ipython3",
   "version": "3.12.4"
  }
 },
 "nbformat": 4,
 "nbformat_minor": 5
}
